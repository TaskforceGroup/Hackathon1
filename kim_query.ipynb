{
 "cells": [
  {
   "attachments": {},
   "cell_type": "markdown",
   "metadata": {},
   "source": [
    "# SQL query to create a fact_calls table"
   ]
  },
  {
   "cell_type": "code",
   "execution_count": null,
   "metadata": {
    "vscode": {
     "languageId": "plaintext"
    }
   },
   "outputs": [],
   "source": [
    "-- Creating a staging table for senders with call details\n",
    "WITH stg_senders AS (\n",
    "  SELECT call_id, call_date, call_time, length_seconds, status, calls.sender_id, name AS sender_name, username AS sender_username,\n",
    "  phone AS sender_phone\n",
    "  FROM senders\n",
    "  JOIN calls ON senders.sender_id = calls.sender_id),\n",
    "\n",
    "-- Creating a staging table for receivers with call details\n",
    "stg_receivers AS (\n",
    "  SELECT call_id AS call_id2, call_date AS call_date2, call_time AS call_time2, length_seconds AS length_seconds2, status AS status2, calls.receiver_id, \n",
    "  name AS receiver_name, username AS receiver_username, phone AS receiver_phone\n",
    "  FROM receivers\n",
    "  JOIN calls ON receivers.receiver_id = calls.receiver_id),\n",
    "\n",
    "-- Joining both sender and receiver staging tables on call_id\n",
    "stg_calls AS (\n",
    "  SELECT *\n",
    "  FROM stg_senders\n",
    "  JOIN stg_receivers ON stg_receivers.call_id2 = stg_senders.call_id),\n",
    "\n",
    "-- Creating a dimension table for senders\n",
    "dim_senders AS (\n",
    "  SELECT DISTINCT sender_id, sender_name, sender_username, sender_phone\n",
    "  FROM stg_calls),\n",
    "\n",
    "-- Removing sender_name, sender_username, and sender_phone from the staging table\n",
    "stg_calls2 AS (\n",
    "  SELECT call_id, call_date, call_time, length_seconds, status, sender_id, call_date2, call_time2, length_seconds2, status2, receiver_id, receiver_name, receiver_username, \n",
    "  receiver_phone\n",
    "  FROM stg_calls),\n",
    "\n",
    "-- Creating a dimension table for receivers\n",
    "dim_receivers AS (\n",
    "  SELECT DISTINCT receiver_id, receiver_name, receiver_username, receiver_phone\n",
    "  FROM stg_calls2),\n",
    "\n",
    "-- Removing receiver_name, receiver_username, and receiver_phone from the staging table\n",
    "stg_calls3 AS (\n",
    "  SELECT call_id, call_date, call_time, length_seconds, status, sender_id, receiver_id\n",
    "  FROM stg_calls2),\n",
    "\n",
    "-- Creating the fact_calls table by selecting required columns from the final staging table\n",
    "fact_calls AS (\n",
    "  SELECT call_id, call_date, call_time, length_seconds, status, sender_id, receiver_id\n",
    "  FROM stg_calls3)\n",
    "\n",
    "-- Selecting rows from the fact_calls table\n",
    "SELECT *\n",
    "FROM fact_calls\n",
    "LIMIT 5;"
   ]
  },
  {
   "attachments": {},
   "cell_type": "markdown",
   "metadata": {},
   "source": [
    "# SQL query to create a dim_senders table"
   ]
  },
  {
   "cell_type": "code",
   "execution_count": null,
   "metadata": {
    "vscode": {
     "languageId": "plaintext"
    }
   },
   "outputs": [],
   "source": [
    "-- Creating a staging table for senders with call details and device information\n",
    "WITH stg_senders AS (\n",
    "  SELECT call_id, call_date, call_time, length_seconds, status, calls.sender_id, name AS sender_name, username AS sender_username,\n",
    "  phone AS sender_phone, product_name AS sender_product_name, software_version AS sender_software_version\n",
    "  FROM senders\n",
    "  JOIN calls ON senders.sender_id = calls.sender_id\n",
    "  JOIN devices ON senders.sender_id = devices.device_id),\n",
    "\n",
    "-- Creating the dim_call_senders table\n",
    "dim_call_senders AS (\n",
    "  SELECT DISTINCT call_id, sender_id, sender_name, sender_username, sender_phone, call_date, call_time, length_seconds, status,\n",
    "  sender_product_name, sender_software_version\n",
    "  FROM stg_senders)\n",
    "\n",
    "-- Selecting rows from the dim_call_senders table\n",
    "SELECT *\n",
    "FROM dim_call_senders\n",
    "LIMIT 5;"
   ]
  },
  {
   "attachments": {},
   "cell_type": "markdown",
   "metadata": {},
   "source": [
    "# SQL query to create a dim_receivers table"
   ]
  },
  {
   "cell_type": "code",
   "execution_count": null,
   "metadata": {
    "vscode": {
     "languageId": "plaintext"
    }
   },
   "outputs": [],
   "source": [
    "-- Creating a staging table for receivers with call details and device information\n",
    "WITH stg_receivers AS (\n",
    "  SELECT call_id, call_date, call_time, length_seconds, status, calls.receiver_id, name AS receiver_name, username AS receiver_username,\n",
    "  phone AS receiver_phone, product_name AS receiver_product_name, software_version AS receiver_software_version\n",
    "  FROM receivers\n",
    "  JOIN calls ON receivers.receiver_id = calls.receiver_id\n",
    "  JOIN devices ON receivers.receiver_id = devices.device_id),\n",
    "\n",
    "-- Creating the dim_call_receivers table\n",
    "dim_call_receivers AS (\n",
    "  SELECT DISTINCT call_id, receiver_id, receiver_name, receiver_username, receiver_phone, call_date, call_time, length_seconds, status,\n",
    "  receiver_product_name, receiver_software_version\n",
    "  FROM stg_receivers)\n",
    "\n",
    "-- Selecting rows from the dim_call_receivers table\n",
    "SELECT *\n",
    "FROM dim_call_receivers\n",
    "LIMIT 5;"
   ]
  }
 ],
 "metadata": {
  "language_info": {
   "name": "python"
  },
  "orig_nbformat": 4
 },
 "nbformat": 4,
 "nbformat_minor": 2
}
